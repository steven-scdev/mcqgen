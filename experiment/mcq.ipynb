{
 "cells": [
  {
   "cell_type": "code",
   "execution_count": 1,
   "metadata": {},
   "outputs": [],
   "source": [
    "import os\n",
    "import json\n",
    "import pandas as pd\n",
    "import traceback\n",
    "\n"
   ]
  },
  {
   "cell_type": "code",
   "execution_count": 10,
   "metadata": {},
   "outputs": [
    {
     "name": "stdout",
     "output_type": "stream",
     "text": [
      "Collecting PyPDF2\n",
      "  Obtaining dependency information for PyPDF2 from https://files.pythonhosted.org/packages/8e/5e/c86a5643653825d3c913719e788e41386bee415c2b87b4f955432f2de6b2/pypdf2-3.0.1-py3-none-any.whl.metadata\n",
      "  Downloading pypdf2-3.0.1-py3-none-any.whl.metadata (6.8 kB)\n",
      "Using cached pypdf2-3.0.1-py3-none-any.whl (232 kB)\n",
      "Installing collected packages: PyPDF2\n",
      "Successfully installed PyPDF2-3.0.1\n"
     ]
    }
   ],
   "source": []
  },
  {
   "cell_type": "code",
   "execution_count": 7,
   "metadata": {},
   "outputs": [],
   "source": [
    "from langchain.chat_models import ChatOpenAI\n"
   ]
  },
  {
   "cell_type": "code",
   "execution_count": 4,
   "metadata": {},
   "outputs": [
    {
     "name": "stderr",
     "output_type": "stream",
     "text": [
      "/Users/yujunchen/anaconda3/lib/python3.11/site-packages/langchain_core/_api/deprecation.py:119: LangChainDeprecationWarning: The class `ChatOpenAI` was deprecated in LangChain 0.0.10 and will be removed in 0.2.0. An updated version of the class exists in the langchain-openai package and should be used instead. To use it run `pip install -U langchain-openai` and import as `from langchain_openai import ChatOpenAI`.\n",
      "  warn_deprecated(\n"
     ]
    }
   ],
   "source": [
    "from dotenv import load_dotenv\n",
    "load_dotenv()\n",
    "KEY = os.getenv(\"OPENAI_API_KEY\")\n",
    "\n",
    "llm = ChatOpenAI(openai_api_key=KEY, model_name=\"gpt-3.5-turbo\", temperature=0.5)"
   ]
  },
  {
   "cell_type": "code",
   "execution_count": 11,
   "metadata": {},
   "outputs": [],
   "source": [
    "from langchain.llms import OpenAI\n",
    "from langchain.prompts import PromptTemplate\n",
    "from langchain.chains import LLMChain\n",
    "from langchain.chains import SequentialChain\n",
    "from langchain.callbacks import get_openai_callback\n",
    "import PyPDF2\n",
    " \n"
   ]
  },
  {
   "cell_type": "code",
   "execution_count": 34,
   "metadata": {},
   "outputs": [],
   "source": [
    "RESPONSE_JSON = {\n",
    "    \"1\": {\n",
    "        \"mcq\": \"multiple choice question\",\n",
    "         \"options\": {\n",
    "           \"a\": \"choice here\",\n",
    "             \"b\": \"choice here\",\n",
    "              \"c\": \"choice here\",\n",
    "              \"d\": \"choice here\",\n",
    "           },\n",
    "    \"correct\": \"correct answer\",\n",
    "       },\n",
    "    \"2\": {\n",
    "        \"mcq\": \"multiple choice question\",\n",
    "         \"options\": {\n",
    "           \"a\": \"choice here\",\n",
    "             \"b\": \"choice here\",\n",
    "              \"c\": \"choice here\",\n",
    "              \"d\": \"choice here\",\n",
    "           },\n",
    "    \"correct\": \"correct answer\",\n",
    "         },\n",
    "   \"3\": {\n",
    "        \"mcq\": \"multiple choice question\",\n",
    "         \"options\": {\n",
    "           \"a\": \"choice here\",\n",
    "             \"b\": \"choice here\",\n",
    "              \"c\": \"choice here\",\n",
    "              \"d\": \"choice here\",\n",
    "           },\n",
    "    \"correct\": \"correct answer\",\n",
    "         },\n",
    "  },\n",
    "\n",
    "\n",
    "TEMPLATE1 = \"\"\"\n",
    "    Text: {text}\n",
    "    You are an expert MCQ maker. Given the above text, it is your job to \\\n",
    "    create a quiz  of {number} multiple choice questions for {subject} students in {tone} tone. \\\n",
    "    Make sure the questions are not repeated and check all the questions to be conforming the text as well.\\\n",
    "    Make sure to format your response like  RESPONSE_JSON below  and use it as a guide. \\\n",
    "    Ensure to make {number} MCQs \n",
    "    ### RESPONSE_JSON\n",
    "    {response_json}\n",
    "    \"\"\"\n",
    "quiz_gen_prompt = PromptTemplate(input_variables=[\"text\",\"number\", \"subject\", \"tone\", \"response_json\"], template=TEMPLATE1)"
   ]
  },
  {
   "cell_type": "code",
   "execution_count": 21,
   "metadata": {},
   "outputs": [],
   "source": [
    "quiz_chain = LLMChain(llm=llm, prompt=quiz_gen_prompt, output_key=\"quiz\",verbose= True)"
   ]
  },
  {
   "cell_type": "code",
   "execution_count": 23,
   "metadata": {},
   "outputs": [],
   "source": [
    "TEMPLATE2 = \"\"\" \n",
    "    You are an expert english grammarian and writer. Given a Multiple Choice Quiz for {subject} students, \\\n",
    "    You need to evaluate the complexity of the question and give a complete analysis of the quiz. Only use at max 50 words for complexity analysis,\\\n",
    "    if the quiz is not at per with the cognitive and analytical abilities of the students,\\\n",
    "    update the quiz questions which needs to be changed and change the tone such that it perfectly fits the student abilities,\\\n",
    "    Quiz_MCQs:\n",
    "    {quiz}\n",
    "    \n",
    "    Check from an expert English Writer of the above quiz:\n",
    " \"\"\""
   ]
  },
  {
   "cell_type": "code",
   "execution_count": 24,
   "metadata": {},
   "outputs": [],
   "source": [
    "quiz_eval_prompt = PromptTemplate(input_variables=[\"subject\", \"quiz\"], template=TEMPLATE2)\n"
   ]
  },
  {
   "cell_type": "code",
   "execution_count": 25,
   "metadata": {},
   "outputs": [],
   "source": [
    "review_chain = LLMChain(llm=llm, prompt=quiz_eval_prompt, output_key=\"review\",verbose= True)"
   ]
  },
  {
   "cell_type": "code",
   "execution_count": 29,
   "metadata": {},
   "outputs": [],
   "source": [
    "generate_evaluate_chain = SequentialChain(chains=[quiz_chain, review_chain],input_variables=[\"text\", \"number\", \"subject\", 'tone','response_json'], output_variables=['quiz', 'review'],verbose=True)"
   ]
  },
  {
   "cell_type": "code",
   "execution_count": 32,
   "metadata": {},
   "outputs": [
    {
     "name": "stdout",
     "output_type": "stream",
     "text": [
      " The term machine learning was coined in 1959 by Arthur Samuel, an IBM employee and pioneer in the field of computer gaming and artificial intelligence.[9][10] The synonym self-teaching computers was also used in this time period.[11][12]\n",
      "\n",
      "Although the earliest machine learning model was introduced in the 1950s when Arthur Samuel invented a program that calculated the winning chance in checkers for each side, the history of machine learning roots back to decades of human desire and effort to study human cognitive processes.[13] In 1949, Canadian psychologist Donald Hebb published the book The Organization of Behavior, in which he introduced a theoretical neural structure formed by certain interactions among nerve cells.[14] Hebb's model of neurons interacting with one another set a groundwork for how AIs and machine learning algorithms work under nodes, or artificial neurons used by computers to communicate data.[13] Other researchers who have studied human cognitive systems contributed to the modern machine learning technologies as well, including logician Walter Pitts and Warren McCulloch, who proposed the early mathematical models of neural networks to come up with algorithms that mirror human thought processes.[13]\n",
      "\n",
      "By the early 1960s an experimental \"learning machine\" with punched tape memory, called Cybertron, had been developed by Raytheon Company to analyze sonar signals, electrocardiograms, and speech patterns using rudimentary reinforcement learning. It was repetitively \"trained\" by a human operator/teacher to recognize patterns and equipped with a \"goof\" button to cause it to re-evaluate incorrect decisions.[15] A representative book on research into machine learning during the 1960s was Nilsson's book on Learning Machines, dealing mostly with machine learning for pattern classification.[16] Interest related to pattern recognition continued into the 1970s, as described by Duda and Hart in 1973.[17] In 1981 a report was given on using teaching strategies so that an artificial neural network learns to recognize 40 characters (26 letters, 10 digits, and 4 special symbols) from a computer terminal.[18]\n",
      "\n",
      "Tom M. Mitchell provided a widely quoted, more formal definition of the algorithms studied in the machine learning field: \"A computer program is said to learn from experience E with respect to some class of tasks T and performance measure P if its performance at tasks in T, as measured by P, improves with experience E.\"[19] This definition of the tasks in which machine learning is concerned offers a fundamentally operational definition rather than defining the field in cognitive terms. This follows Alan Turing's proposal in his paper \"Computing Machinery and Intelligence\", in which the question \"Can machines think?\" is replaced with the question \"Can machines do what we (as thinking entities) can do?\".[20]\n",
      "\n",
      "Modern-day machine learning has two objectives. One is to classify data based on models which have been developed; the other purpose is to make predictions for future outcomes based on these models. A hypothetical algorithm specific to classifying data may use computer vision of moles coupled with supervised learning in order to train it to classify the cancerous moles. A machine learning algorithm for stock trading may inform the trader of future potential predictions.[21]\n"
     ]
    }
   ],
   "source": [
    "file_path = \"/Users/yujunchen/Desktop/AI/AI-Projects/mcqgen/data.txt\"\n",
    "with open(file_path, 'r') as file:\n",
    "    TEXT = file.read()\n"
   ]
  },
  {
   "cell_type": "code",
   "execution_count": 109,
   "metadata": {},
   "outputs": [
    {
     "data": {
      "text/plain": [
       "'[{\"1\": {\"mcq\": \"multiple choice question\", \"options\": {\"a\": \"choice here\", \"b\": \"choice here\", \"c\": \"choice here\", \"d\": \"choice here\"}, \"correct\": \"correct answer\"}, \"2\": {\"mcq\": \"multiple choice question\", \"options\": {\"a\": \"choice here\", \"b\": \"choice here\", \"c\": \"choice here\", \"d\": \"choice here\"}, \"correct\": \"correct answer\"}, \"3\": {\"mcq\": \"multiple choice question\", \"options\": {\"a\": \"choice here\", \"b\": \"choice here\", \"c\": \"choice here\", \"d\": \"choice here\"}, \"correct\": \"correct answer\"}}]'"
      ]
     },
     "execution_count": 109,
     "metadata": {},
     "output_type": "execute_result"
    }
   ],
   "source": [
    "# Serialize the Python dictionary into a JSON-formatted string\n",
    "RESPONSE_JSON"
   ]
  },
  {
   "cell_type": "code",
   "execution_count": 110,
   "metadata": {},
   "outputs": [],
   "source": [
    "NUMBER=5\n",
    "SUBJECT=\"Machine Learning\"\n",
    "TONE=\"simple\"\n"
   ]
  },
  {
   "cell_type": "code",
   "execution_count": 111,
   "metadata": {},
   "outputs": [
    {
     "name": "stdout",
     "output_type": "stream",
     "text": [
      "\n",
      "\n",
      "\u001b[1m> Entering new SequentialChain chain...\u001b[0m\n",
      "\n",
      "\n",
      "\u001b[1m> Entering new LLMChain chain...\u001b[0m\n",
      "Prompt after formatting:\n",
      "\u001b[32;1m\u001b[1;3m\n",
      "    Text:  The term machine learning was coined in 1959 by Arthur Samuel, an IBM employee and pioneer in the field of computer gaming and artificial intelligence.[9][10] The synonym self-teaching computers was also used in this time period.[11][12]\n",
      "\n",
      "Although the earliest machine learning model was introduced in the 1950s when Arthur Samuel invented a program that calculated the winning chance in checkers for each side, the history of machine learning roots back to decades of human desire and effort to study human cognitive processes.[13] In 1949, Canadian psychologist Donald Hebb published the book The Organization of Behavior, in which he introduced a theoretical neural structure formed by certain interactions among nerve cells.[14] Hebb's model of neurons interacting with one another set a groundwork for how AIs and machine learning algorithms work under nodes, or artificial neurons used by computers to communicate data.[13] Other researchers who have studied human cognitive systems contributed to the modern machine learning technologies as well, including logician Walter Pitts and Warren McCulloch, who proposed the early mathematical models of neural networks to come up with algorithms that mirror human thought processes.[13]\n",
      "\n",
      "By the early 1960s an experimental \"learning machine\" with punched tape memory, called Cybertron, had been developed by Raytheon Company to analyze sonar signals, electrocardiograms, and speech patterns using rudimentary reinforcement learning. It was repetitively \"trained\" by a human operator/teacher to recognize patterns and equipped with a \"goof\" button to cause it to re-evaluate incorrect decisions.[15] A representative book on research into machine learning during the 1960s was Nilsson's book on Learning Machines, dealing mostly with machine learning for pattern classification.[16] Interest related to pattern recognition continued into the 1970s, as described by Duda and Hart in 1973.[17] In 1981 a report was given on using teaching strategies so that an artificial neural network learns to recognize 40 characters (26 letters, 10 digits, and 4 special symbols) from a computer terminal.[18]\n",
      "\n",
      "Tom M. Mitchell provided a widely quoted, more formal definition of the algorithms studied in the machine learning field: \"A computer program is said to learn from experience E with respect to some class of tasks T and performance measure P if its performance at tasks in T, as measured by P, improves with experience E.\"[19] This definition of the tasks in which machine learning is concerned offers a fundamentally operational definition rather than defining the field in cognitive terms. This follows Alan Turing's proposal in his paper \"Computing Machinery and Intelligence\", in which the question \"Can machines think?\" is replaced with the question \"Can machines do what we (as thinking entities) can do?\".[20]\n",
      "\n",
      "Modern-day machine learning has two objectives. One is to classify data based on models which have been developed; the other purpose is to make predictions for future outcomes based on these models. A hypothetical algorithm specific to classifying data may use computer vision of moles coupled with supervised learning in order to train it to classify the cancerous moles. A machine learning algorithm for stock trading may inform the trader of future potential predictions.[21]\n",
      "    You are an expert MCQ maker. Given the above text, it is your job to     create a quiz  of 5 multiple choice questions for Machine Learning students in simple tone.     Make sure the questions are not repeated and check all the questions to be conforming the text as well.    Make sure to format your response like  RESPONSE_JSON below  and use it as a guide.     Ensure to make 5 MCQs \n",
      "    ### RESPONSE_JSON\n",
      "    \"[{\\\"1\\\": {\\\"mcq\\\": \\\"multiple choice question\\\", \\\"options\\\": {\\\"a\\\": \\\"choice here\\\", \\\"b\\\": \\\"choice here\\\", \\\"c\\\": \\\"choice here\\\", \\\"d\\\": \\\"choice here\\\"}, \\\"correct\\\": \\\"correct answer\\\"}, \\\"2\\\": {\\\"mcq\\\": \\\"multiple choice question\\\", \\\"options\\\": {\\\"a\\\": \\\"choice here\\\", \\\"b\\\": \\\"choice here\\\", \\\"c\\\": \\\"choice here\\\", \\\"d\\\": \\\"choice here\\\"}, \\\"correct\\\": \\\"correct answer\\\"}, \\\"3\\\": {\\\"mcq\\\": \\\"multiple choice question\\\", \\\"options\\\": {\\\"a\\\": \\\"choice here\\\", \\\"b\\\": \\\"choice here\\\", \\\"c\\\": \\\"choice here\\\", \\\"d\\\": \\\"choice here\\\"}, \\\"correct\\\": \\\"correct answer\\\"}}]\"\n",
      "    \u001b[0m\n",
      "\n",
      "\u001b[1m> Finished chain.\u001b[0m\n",
      "\n",
      "\n",
      "\u001b[1m> Entering new LLMChain chain...\u001b[0m\n",
      "Prompt after formatting:\n",
      "\u001b[32;1m\u001b[1;3m \n",
      "    You are an expert english grammarian and writer. Given a Multiple Choice Quiz for Machine Learning students,     You need to evaluate the complexity of the question and give a complete analysis of the quiz. Only use at max 50 words for complexity analysis,    if the quiz is not at per with the cognitive and analytical abilities of the students,    update the quiz questions which needs to be changed and change the tone such that it perfectly fits the student abilities,    Quiz_MCQs:\n",
      "    \n",
      "    [\n",
      "        {\n",
      "            \"1\": {\n",
      "                \"mcq\": \"Who coined the term machine learning in 1959?\",\n",
      "                \"options\": {\n",
      "                    \"a\": \"Donald Hebb\",\n",
      "                    \"b\": \"Walter Pitts\",\n",
      "                    \"c\": \"Arthur Samuel\",\n",
      "                    \"d\": \"Warren McCulloch\"\n",
      "                },\n",
      "                \"correct\": \"c\"\n",
      "            }\n",
      "        },\n",
      "        {\n",
      "            \"2\": {\n",
      "                \"mcq\": \"What was the earliest machine learning model introduced by Arthur Samuel in the 1950s?\",\n",
      "                \"options\": {\n",
      "                    \"a\": \"Program for calculating winning chance in checkers\",\n",
      "                    \"b\": \"Program for analyzing sonar signals\",\n",
      "                    \"c\": \"Program for recognizing speech patterns\",\n",
      "                    \"d\": \"Program for classifying data\"\n",
      "                },\n",
      "                \"correct\": \"a\"\n",
      "            }\n",
      "        },\n",
      "        {\n",
      "            \"3\": {\n",
      "                \"mcq\": \"Who published the book 'The Organization of Behavior' in 1949?\",\n",
      "                \"options\": {\n",
      "                    \"a\": \"Donald Hebb\",\n",
      "                    \"b\": \"Walter Pitts\",\n",
      "                    \"c\": \"Arthur Samuel\",\n",
      "                    \"d\": \"Warren McCulloch\"\n",
      "                },\n",
      "                \"correct\": \"a\"\n",
      "            }\n",
      "        },\n",
      "        {\n",
      "            \"4\": {\n",
      "                \"mcq\": \"What was the experimental 'learning machine' developed by Raytheon Company in the early 1960s called?\",\n",
      "                \"options\": {\n",
      "                    \"a\": \"Cybertron\",\n",
      "                    \"b\": \"RoboBrain\",\n",
      "                    \"c\": \"TechBot\",\n",
      "                    \"d\": \"DataMaster\"\n",
      "                },\n",
      "                \"correct\": \"a\"\n",
      "            }\n",
      "        },\n",
      "        {\n",
      "            \"5\": {\n",
      "                \"mcq\": \"According to Tom M. Mitchell, what defines a computer program learning from experience?\",\n",
      "                \"options\": {\n",
      "                    \"a\": \"Performance at tasks in T\",\n",
      "                    \"b\": \"Experience E\",\n",
      "                    \"c\": \"Performance measure P\",\n",
      "                    \"d\": \"All of the above\"\n",
      "                },\n",
      "                \"correct\": \"d\"\n",
      "            }\n",
      "        }\n",
      "    ]\n",
      "    \n",
      "    Check from an expert English Writer of the above quiz:\n",
      " \u001b[0m\n",
      "\n",
      "\u001b[1m> Finished chain.\u001b[0m\n",
      "\n",
      "\u001b[1m> Finished chain.\u001b[0m\n"
     ]
    }
   ],
   "source": [
    "#How to setup Token Usage Tracking in LangChain\n",
    "with get_openai_callback() as cb:\n",
    "    response = generate_evaluate_chain(\n",
    "        {\n",
    "            \"text\": TEXT,\n",
    "            \"number\": NUMBER,\n",
    "            \"subject\": SUBJECT,\n",
    "            \"tone\" : TONE,\n",
    "            \"response_json\":json.dumps(RESPONSE_JSON)\n",
    "        }\n",
    "    )\n",
    "\n"
   ]
  },
  {
   "cell_type": "code",
   "execution_count": 112,
   "metadata": {},
   "outputs": [
    {
     "name": "stdout",
     "output_type": "stream",
     "text": [
      "Total Tokens Used: 1977\n",
      "Prompt Tokens: 1478\n",
      "Completion Tokens: 499\n",
      "Total cost: 0.0032150000000000004 USD\n"
     ]
    }
   ],
   "source": [
    "print(f\"Total Tokens Used: {cb.total_tokens}\")\n",
    "print(f\"Prompt Tokens: {cb.prompt_tokens}\")\n",
    "print(f\"Completion Tokens: {cb.completion_tokens}\")\n",
    "print(f\"Total cost: {cb.total_cost} USD\")"
   ]
  },
  {
   "cell_type": "code",
   "execution_count": 119,
   "metadata": {},
   "outputs": [
    {
     "name": "stdout",
     "output_type": "stream",
     "text": [
      "\"[{\\\"1\\\": {\\\"mcq\\\": \\\"multiple choice question\\\", \\\"options\\\": {\\\"a\\\": \\\"choice here\\\", \\\"b\\\": \\\"choice here\\\", \\\"c\\\": \\\"choice here\\\", \\\"d\\\": \\\"choice here\\\"}, \\\"correct\\\": \\\"correct answer\\\"}, \\\"2\\\": {\\\"mcq\\\": \\\"multiple choice question\\\", \\\"options\\\": {\\\"a\\\": \\\"choice here\\\", \\\"b\\\": \\\"choice here\\\", \\\"c\\\": \\\"choice here\\\", \\\"d\\\": \\\"choice here\\\"}, \\\"correct\\\": \\\"correct answer\\\"}, \\\"3\\\": {\\\"mcq\\\": \\\"multiple choice question\\\", \\\"options\\\": {\\\"a\\\": \\\"choice here\\\", \\\"b\\\": \\\"choice here\\\", \\\"c\\\": \\\"choice here\\\", \\\"d\\\": \\\"choice here\\\"}, \\\"correct\\\": \\\"correct answer\\\"}}]\"\n"
     ]
    }
   ],
   "source": [
    "quiz=response['quiz']\n",
    "quiz = json.dumps(RESPONSE_JSON)\n",
    "print(quiz)"
   ]
  },
  {
   "cell_type": "code",
   "execution_count": 120,
   "metadata": {},
   "outputs": [
    {
     "ename": "AttributeError",
     "evalue": "'str' object has no attribute 'items'",
     "output_type": "error",
     "traceback": [
      "\u001b[0;31m---------------------------------------------------------------------------\u001b[0m",
      "\u001b[0;31mAttributeError\u001b[0m                            Traceback (most recent call last)",
      "Cell \u001b[0;32mIn[120], line 2\u001b[0m\n\u001b[1;32m      1\u001b[0m quiz_table_data \u001b[38;5;241m=\u001b[39m []\n\u001b[0;32m----> 2\u001b[0m \u001b[38;5;28;01mfor\u001b[39;00m key,value \u001b[38;5;129;01min\u001b[39;00m quiz\u001b[38;5;241m.\u001b[39mitems():\n\u001b[1;32m      3\u001b[0m     mcq \u001b[38;5;241m=\u001b[39m value[\u001b[38;5;124m'\u001b[39m\u001b[38;5;124mmcq\u001b[39m\u001b[38;5;124m'\u001b[39m]\n\u001b[1;32m      4\u001b[0m     options \u001b[38;5;241m=\u001b[39m \u001b[38;5;124m\"\u001b[39m\u001b[38;5;124m | \u001b[39m\u001b[38;5;124m\"\u001b[39m\u001b[38;5;241m.\u001b[39mjoin([\u001b[38;5;124mf\u001b[39m\u001b[38;5;124m\"\u001b[39m\u001b[38;5;132;01m{\u001b[39;00moption\u001b[38;5;132;01m}\u001b[39;00m\u001b[38;5;124m: \u001b[39m\u001b[38;5;132;01m{\u001b[39;00moption_value\u001b[38;5;132;01m}\u001b[39;00m\u001b[38;5;124m\"\u001b[39m \u001b[38;5;28;01mfor\u001b[39;00m option,option_value \u001b[38;5;129;01min\u001b[39;00m value[\u001b[38;5;124m'\u001b[39m\u001b[38;5;124moptions\u001b[39m\u001b[38;5;124m'\u001b[39m]\u001b[38;5;241m.\u001b[39mitems()]\n\u001b[1;32m      5\u001b[0m                          )\n",
      "\u001b[0;31mAttributeError\u001b[0m: 'str' object has no attribute 'items'"
     ]
    }
   ],
   "source": [
    "quiz_table_data = []\n",
    "for key,value in quiz.items():\n",
    "    mcq = value['mcq']\n",
    "    options = \" | \".join([f\"{option}: {option_value}\" for option,option_value in value['options'].items()]\n",
    "                         )\n",
    "    correct = value['correct']\n",
    "    quiz_table_data.append([mcq, options, correct])"
   ]
  },
  {
   "cell_type": "code",
   "execution_count": null,
   "metadata": {},
   "outputs": [],
   "source": []
  }
 ],
 "metadata": {
  "kernelspec": {
   "display_name": "base",
   "language": "python",
   "name": "python3"
  },
  "language_info": {
   "codemirror_mode": {
    "name": "ipython",
    "version": 3
   },
   "file_extension": ".py",
   "mimetype": "text/x-python",
   "name": "python",
   "nbconvert_exporter": "python",
   "pygments_lexer": "ipython3",
   "version": "3.11.5"
  }
 },
 "nbformat": 4,
 "nbformat_minor": 2
}
